{
 "cells": [
  {
   "cell_type": "code",
   "execution_count": 31,
   "id": "593141a0",
   "metadata": {},
   "outputs": [],
   "source": [
    "import numpy as np\n",
    "import pandas as pd\n"
   ]
  },
  {
   "cell_type": "code",
   "execution_count": 32,
   "id": "2bdaf251",
   "metadata": {},
   "outputs": [],
   "source": [
    "constructor_standings = pd.read_csv(\"constructor_standings.csv\")\n",
    "constructor = pd.read_csv(\"constructors.csv\")\n"
   ]
  },
  {
   "cell_type": "markdown",
   "id": "55848afa",
   "metadata": {},
   "source": [
    "Constructor Standings \n"
   ]
  },
  {
   "cell_type": "code",
   "execution_count": 33,
   "id": "c1471ae3",
   "metadata": {},
   "outputs": [
    {
     "data": {
      "text/html": [
       "<div>\n",
       "<style scoped>\n",
       "    .dataframe tbody tr th:only-of-type {\n",
       "        vertical-align: middle;\n",
       "    }\n",
       "\n",
       "    .dataframe tbody tr th {\n",
       "        vertical-align: top;\n",
       "    }\n",
       "\n",
       "    .dataframe thead th {\n",
       "        text-align: right;\n",
       "    }\n",
       "</style>\n",
       "<table border=\"1\" class=\"dataframe\">\n",
       "  <thead>\n",
       "    <tr style=\"text-align: right;\">\n",
       "      <th></th>\n",
       "      <th>constructorStandingsId</th>\n",
       "      <th>raceId</th>\n",
       "      <th>constructorId</th>\n",
       "      <th>points</th>\n",
       "      <th>position</th>\n",
       "      <th>positionText</th>\n",
       "      <th>wins</th>\n",
       "    </tr>\n",
       "  </thead>\n",
       "  <tbody>\n",
       "    <tr>\n",
       "      <th>0</th>\n",
       "      <td>1</td>\n",
       "      <td>18</td>\n",
       "      <td>1</td>\n",
       "      <td>14.0</td>\n",
       "      <td>1</td>\n",
       "      <td>1</td>\n",
       "      <td>1</td>\n",
       "    </tr>\n",
       "    <tr>\n",
       "      <th>1</th>\n",
       "      <td>2</td>\n",
       "      <td>18</td>\n",
       "      <td>2</td>\n",
       "      <td>8.0</td>\n",
       "      <td>3</td>\n",
       "      <td>3</td>\n",
       "      <td>0</td>\n",
       "    </tr>\n",
       "    <tr>\n",
       "      <th>2</th>\n",
       "      <td>3</td>\n",
       "      <td>18</td>\n",
       "      <td>3</td>\n",
       "      <td>9.0</td>\n",
       "      <td>2</td>\n",
       "      <td>2</td>\n",
       "      <td>0</td>\n",
       "    </tr>\n",
       "    <tr>\n",
       "      <th>3</th>\n",
       "      <td>4</td>\n",
       "      <td>18</td>\n",
       "      <td>4</td>\n",
       "      <td>5.0</td>\n",
       "      <td>4</td>\n",
       "      <td>4</td>\n",
       "      <td>0</td>\n",
       "    </tr>\n",
       "    <tr>\n",
       "      <th>4</th>\n",
       "      <td>5</td>\n",
       "      <td>18</td>\n",
       "      <td>5</td>\n",
       "      <td>2.0</td>\n",
       "      <td>5</td>\n",
       "      <td>5</td>\n",
       "      <td>0</td>\n",
       "    </tr>\n",
       "  </tbody>\n",
       "</table>\n",
       "</div>"
      ],
      "text/plain": [
       "   constructorStandingsId  raceId  constructorId  points  position  \\\n",
       "0                       1      18              1    14.0         1   \n",
       "1                       2      18              2     8.0         3   \n",
       "2                       3      18              3     9.0         2   \n",
       "3                       4      18              4     5.0         4   \n",
       "4                       5      18              5     2.0         5   \n",
       "\n",
       "  positionText  wins  \n",
       "0            1     1  \n",
       "1            3     0  \n",
       "2            2     0  \n",
       "3            4     0  \n",
       "4            5     0  "
      ]
     },
     "execution_count": 33,
     "metadata": {},
     "output_type": "execute_result"
    }
   ],
   "source": [
    "constructor_standings.head()\n"
   ]
  },
  {
   "cell_type": "markdown",
   "id": "f8f0129a",
   "metadata": {},
   "source": [
    "number of rows and columns "
   ]
  },
  {
   "cell_type": "code",
   "execution_count": 34,
   "id": "f89abe17",
   "metadata": {},
   "outputs": [
    {
     "data": {
      "text/plain": [
       "(13391, 7)"
      ]
     },
     "execution_count": 34,
     "metadata": {},
     "output_type": "execute_result"
    }
   ],
   "source": [
    "constructor_standings.shape"
   ]
  },
  {
   "cell_type": "markdown",
   "id": "47c77669",
   "metadata": {},
   "source": [
    "checking for null values"
   ]
  },
  {
   "cell_type": "markdown",
   "id": "9f402ac3",
   "metadata": {},
   "source": []
  },
  {
   "cell_type": "code",
   "execution_count": 35,
   "id": "c8e84ff1",
   "metadata": {},
   "outputs": [
    {
     "data": {
      "text/plain": [
       "constructorStandingsId    0\n",
       "raceId                    0\n",
       "constructorId             0\n",
       "points                    0\n",
       "position                  0\n",
       "positionText              0\n",
       "wins                      0\n",
       "dtype: int64"
      ]
     },
     "execution_count": 35,
     "metadata": {},
     "output_type": "execute_result"
    }
   ],
   "source": [
    "null_vals = constructor_standings.isnull()\n",
    "constructor_standings[null_vals].count()"
   ]
  },
  {
   "cell_type": "markdown",
   "id": "383c1987",
   "metadata": {},
   "source": [
    "datatypes of columns"
   ]
  },
  {
   "cell_type": "code",
   "execution_count": 36,
   "id": "e1c263ae",
   "metadata": {},
   "outputs": [
    {
     "data": {
      "text/plain": [
       "constructorStandingsId      int64\n",
       "raceId                      int64\n",
       "constructorId               int64\n",
       "points                    float64\n",
       "position                    int64\n",
       "positionText               object\n",
       "wins                        int64\n",
       "dtype: object"
      ]
     },
     "execution_count": 36,
     "metadata": {},
     "output_type": "execute_result"
    }
   ],
   "source": [
    "constructor_standings.dtypes"
   ]
  },
  {
   "cell_type": "markdown",
   "id": "8cfca799",
   "metadata": {},
   "source": [
    "duplicate rows\n"
   ]
  },
  {
   "cell_type": "code",
   "execution_count": 37,
   "id": "d18dfdf4",
   "metadata": {},
   "outputs": [
    {
     "data": {
      "text/plain": [
       "constructorStandingsId    0\n",
       "raceId                    0\n",
       "constructorId             0\n",
       "points                    0\n",
       "position                  0\n",
       "positionText              0\n",
       "wins                      0\n",
       "dtype: int64"
      ]
     },
     "execution_count": 37,
     "metadata": {},
     "output_type": "execute_result"
    }
   ],
   "source": [
    "duplicates = constructor_standings.duplicated()\n",
    "constructor_standings[duplicates].count()"
   ]
  },
  {
   "cell_type": "markdown",
   "id": "874bba26",
   "metadata": {},
   "source": [
    "unique values in positionText column"
   ]
  },
  {
   "cell_type": "code",
   "execution_count": 38,
   "id": "90c69b51",
   "metadata": {},
   "outputs": [
    {
     "name": "stdout",
     "output_type": "stream",
     "text": [
      "['1' '3' '2' '4' '5' '6' '8' '7' '9' '10' '11' 'E' '12' '13' '14' '15'\n",
      " '18' '17' '16' '19' '20' '21' '22']\n"
     ]
    }
   ],
   "source": [
    "unique_cat = constructor_standings['positionText'].unique()\n",
    "print(unique_cat)"
   ]
  },
  {
   "cell_type": "markdown",
   "id": "6afb1435",
   "metadata": {},
   "source": [
    "dropping positionText column"
   ]
  },
  {
   "cell_type": "code",
   "execution_count": 39,
   "id": "38542ff8",
   "metadata": {},
   "outputs": [],
   "source": [
    "constructor_standings = constructor_standings.drop(columns = ['positionText'])\n"
   ]
  },
  {
   "cell_type": "code",
   "execution_count": 40,
   "id": "ed2406ce",
   "metadata": {},
   "outputs": [
    {
     "data": {
      "text/html": [
       "<div>\n",
       "<style scoped>\n",
       "    .dataframe tbody tr th:only-of-type {\n",
       "        vertical-align: middle;\n",
       "    }\n",
       "\n",
       "    .dataframe tbody tr th {\n",
       "        vertical-align: top;\n",
       "    }\n",
       "\n",
       "    .dataframe thead th {\n",
       "        text-align: right;\n",
       "    }\n",
       "</style>\n",
       "<table border=\"1\" class=\"dataframe\">\n",
       "  <thead>\n",
       "    <tr style=\"text-align: right;\">\n",
       "      <th></th>\n",
       "      <th>constructorStandingsId</th>\n",
       "      <th>raceId</th>\n",
       "      <th>constructorId</th>\n",
       "      <th>points</th>\n",
       "      <th>position</th>\n",
       "      <th>wins</th>\n",
       "      <th>constructorRef</th>\n",
       "      <th>name</th>\n",
       "    </tr>\n",
       "  </thead>\n",
       "  <tbody>\n",
       "    <tr>\n",
       "      <th>0</th>\n",
       "      <td>1.0</td>\n",
       "      <td>18.0</td>\n",
       "      <td>1</td>\n",
       "      <td>14.0</td>\n",
       "      <td>1.0</td>\n",
       "      <td>1.0</td>\n",
       "      <td>mclaren</td>\n",
       "      <td>McLaren</td>\n",
       "    </tr>\n",
       "    <tr>\n",
       "      <th>1</th>\n",
       "      <td>7.0</td>\n",
       "      <td>19.0</td>\n",
       "      <td>1</td>\n",
       "      <td>24.0</td>\n",
       "      <td>1.0</td>\n",
       "      <td>1.0</td>\n",
       "      <td>mclaren</td>\n",
       "      <td>McLaren</td>\n",
       "    </tr>\n",
       "    <tr>\n",
       "      <th>2</th>\n",
       "      <td>18.0</td>\n",
       "      <td>20.0</td>\n",
       "      <td>1</td>\n",
       "      <td>28.0</td>\n",
       "      <td>3.0</td>\n",
       "      <td>1.0</td>\n",
       "      <td>mclaren</td>\n",
       "      <td>McLaren</td>\n",
       "    </tr>\n",
       "    <tr>\n",
       "      <th>3</th>\n",
       "      <td>29.0</td>\n",
       "      <td>21.0</td>\n",
       "      <td>1</td>\n",
       "      <td>34.0</td>\n",
       "      <td>3.0</td>\n",
       "      <td>1.0</td>\n",
       "      <td>mclaren</td>\n",
       "      <td>McLaren</td>\n",
       "    </tr>\n",
       "    <tr>\n",
       "      <th>4</th>\n",
       "      <td>40.0</td>\n",
       "      <td>22.0</td>\n",
       "      <td>1</td>\n",
       "      <td>42.0</td>\n",
       "      <td>3.0</td>\n",
       "      <td>1.0</td>\n",
       "      <td>mclaren</td>\n",
       "      <td>McLaren</td>\n",
       "    </tr>\n",
       "    <tr>\n",
       "      <th>...</th>\n",
       "      <td>...</td>\n",
       "      <td>...</td>\n",
       "      <td>...</td>\n",
       "      <td>...</td>\n",
       "      <td>...</td>\n",
       "      <td>...</td>\n",
       "      <td>...</td>\n",
       "      <td>...</td>\n",
       "    </tr>\n",
       "    <tr>\n",
       "      <th>13438</th>\n",
       "      <td>28940.0</td>\n",
       "      <td>1140.0</td>\n",
       "      <td>215</td>\n",
       "      <td>36.0</td>\n",
       "      <td>7.0</td>\n",
       "      <td>0.0</td>\n",
       "      <td>rb</td>\n",
       "      <td>RB F1 Team</td>\n",
       "    </tr>\n",
       "    <tr>\n",
       "      <th>13439</th>\n",
       "      <td>28950.0</td>\n",
       "      <td>1141.0</td>\n",
       "      <td>215</td>\n",
       "      <td>44.0</td>\n",
       "      <td>8.0</td>\n",
       "      <td>0.0</td>\n",
       "      <td>rb</td>\n",
       "      <td>RB F1 Team</td>\n",
       "    </tr>\n",
       "    <tr>\n",
       "      <th>13440</th>\n",
       "      <td>28960.0</td>\n",
       "      <td>1142.0</td>\n",
       "      <td>215</td>\n",
       "      <td>46.0</td>\n",
       "      <td>8.0</td>\n",
       "      <td>0.0</td>\n",
       "      <td>rb</td>\n",
       "      <td>RB F1 Team</td>\n",
       "    </tr>\n",
       "    <tr>\n",
       "      <th>13441</th>\n",
       "      <td>28970.0</td>\n",
       "      <td>1143.0</td>\n",
       "      <td>215</td>\n",
       "      <td>46.0</td>\n",
       "      <td>8.0</td>\n",
       "      <td>0.0</td>\n",
       "      <td>rb</td>\n",
       "      <td>RB F1 Team</td>\n",
       "    </tr>\n",
       "    <tr>\n",
       "      <th>13442</th>\n",
       "      <td>28980.0</td>\n",
       "      <td>1144.0</td>\n",
       "      <td>215</td>\n",
       "      <td>46.0</td>\n",
       "      <td>8.0</td>\n",
       "      <td>0.0</td>\n",
       "      <td>rb</td>\n",
       "      <td>RB F1 Team</td>\n",
       "    </tr>\n",
       "  </tbody>\n",
       "</table>\n",
       "<p>13443 rows × 8 columns</p>\n",
       "</div>"
      ],
      "text/plain": [
       "       constructorStandingsId  raceId  constructorId  points  position  wins  \\\n",
       "0                         1.0    18.0              1    14.0       1.0   1.0   \n",
       "1                         7.0    19.0              1    24.0       1.0   1.0   \n",
       "2                        18.0    20.0              1    28.0       3.0   1.0   \n",
       "3                        29.0    21.0              1    34.0       3.0   1.0   \n",
       "4                        40.0    22.0              1    42.0       3.0   1.0   \n",
       "...                       ...     ...            ...     ...       ...   ...   \n",
       "13438                 28940.0  1140.0            215    36.0       7.0   0.0   \n",
       "13439                 28950.0  1141.0            215    44.0       8.0   0.0   \n",
       "13440                 28960.0  1142.0            215    46.0       8.0   0.0   \n",
       "13441                 28970.0  1143.0            215    46.0       8.0   0.0   \n",
       "13442                 28980.0  1144.0            215    46.0       8.0   0.0   \n",
       "\n",
       "      constructorRef        name  \n",
       "0            mclaren     McLaren  \n",
       "1            mclaren     McLaren  \n",
       "2            mclaren     McLaren  \n",
       "3            mclaren     McLaren  \n",
       "4            mclaren     McLaren  \n",
       "...              ...         ...  \n",
       "13438             rb  RB F1 Team  \n",
       "13439             rb  RB F1 Team  \n",
       "13440             rb  RB F1 Team  \n",
       "13441             rb  RB F1 Team  \n",
       "13442             rb  RB F1 Team  \n",
       "\n",
       "[13443 rows x 8 columns]"
      ]
     },
     "execution_count": 40,
     "metadata": {},
     "output_type": "execute_result"
    }
   ],
   "source": [
    "merged_df = pd.merge(constructor_standings, constructor, on=\"constructorId\", how =\"outer\")\n",
    "merged_df = merged_df.drop(columns=['nationality', 'url'])\n",
    "\n",
    "constructor_standings = merged_df \n",
    "constructor_standings\n"
   ]
  },
  {
   "cell_type": "code",
   "execution_count": 41,
   "id": "115141e2",
   "metadata": {},
   "outputs": [
    {
     "data": {
      "text/html": [
       "<div>\n",
       "<style scoped>\n",
       "    .dataframe tbody tr th:only-of-type {\n",
       "        vertical-align: middle;\n",
       "    }\n",
       "\n",
       "    .dataframe tbody tr th {\n",
       "        vertical-align: top;\n",
       "    }\n",
       "\n",
       "    .dataframe thead th {\n",
       "        text-align: right;\n",
       "    }\n",
       "</style>\n",
       "<table border=\"1\" class=\"dataframe\">\n",
       "  <thead>\n",
       "    <tr style=\"text-align: right;\">\n",
       "      <th></th>\n",
       "      <th>constructorStandingsId</th>\n",
       "      <th>raceId</th>\n",
       "      <th>constructorId</th>\n",
       "      <th>points</th>\n",
       "      <th>position</th>\n",
       "      <th>wins</th>\n",
       "      <th>constructorRef</th>\n",
       "      <th>name</th>\n",
       "    </tr>\n",
       "  </thead>\n",
       "  <tbody>\n",
       "    <tr>\n",
       "      <th>780</th>\n",
       "      <td>26936.0</td>\n",
       "      <td>989.0</td>\n",
       "      <td>1</td>\n",
       "      <td>12.0</td>\n",
       "      <td>4.0</td>\n",
       "      <td>0.0</td>\n",
       "      <td>mclaren</td>\n",
       "      <td>McLaren</td>\n",
       "    </tr>\n",
       "    <tr>\n",
       "      <th>781</th>\n",
       "      <td>26976.0</td>\n",
       "      <td>990.0</td>\n",
       "      <td>1</td>\n",
       "      <td>22.0</td>\n",
       "      <td>3.0</td>\n",
       "      <td>0.0</td>\n",
       "      <td>mclaren</td>\n",
       "      <td>McLaren</td>\n",
       "    </tr>\n",
       "    <tr>\n",
       "      <th>782</th>\n",
       "      <td>26966.0</td>\n",
       "      <td>991.0</td>\n",
       "      <td>1</td>\n",
       "      <td>28.0</td>\n",
       "      <td>4.0</td>\n",
       "      <td>0.0</td>\n",
       "      <td>mclaren</td>\n",
       "      <td>McLaren</td>\n",
       "    </tr>\n",
       "    <tr>\n",
       "      <th>783</th>\n",
       "      <td>26986.0</td>\n",
       "      <td>992.0</td>\n",
       "      <td>1</td>\n",
       "      <td>36.0</td>\n",
       "      <td>4.0</td>\n",
       "      <td>0.0</td>\n",
       "      <td>mclaren</td>\n",
       "      <td>McLaren</td>\n",
       "    </tr>\n",
       "    <tr>\n",
       "      <th>784</th>\n",
       "      <td>26996.0</td>\n",
       "      <td>993.0</td>\n",
       "      <td>1</td>\n",
       "      <td>40.0</td>\n",
       "      <td>5.0</td>\n",
       "      <td>0.0</td>\n",
       "      <td>mclaren</td>\n",
       "      <td>McLaren</td>\n",
       "    </tr>\n",
       "    <tr>\n",
       "      <th>...</th>\n",
       "      <td>...</td>\n",
       "      <td>...</td>\n",
       "      <td>...</td>\n",
       "      <td>...</td>\n",
       "      <td>...</td>\n",
       "      <td>...</td>\n",
       "      <td>...</td>\n",
       "      <td>...</td>\n",
       "    </tr>\n",
       "    <tr>\n",
       "      <th>13438</th>\n",
       "      <td>28940.0</td>\n",
       "      <td>1140.0</td>\n",
       "      <td>215</td>\n",
       "      <td>36.0</td>\n",
       "      <td>7.0</td>\n",
       "      <td>0.0</td>\n",
       "      <td>rb</td>\n",
       "      <td>RB F1 Team</td>\n",
       "    </tr>\n",
       "    <tr>\n",
       "      <th>13439</th>\n",
       "      <td>28950.0</td>\n",
       "      <td>1141.0</td>\n",
       "      <td>215</td>\n",
       "      <td>44.0</td>\n",
       "      <td>8.0</td>\n",
       "      <td>0.0</td>\n",
       "      <td>rb</td>\n",
       "      <td>RB F1 Team</td>\n",
       "    </tr>\n",
       "    <tr>\n",
       "      <th>13440</th>\n",
       "      <td>28960.0</td>\n",
       "      <td>1142.0</td>\n",
       "      <td>215</td>\n",
       "      <td>46.0</td>\n",
       "      <td>8.0</td>\n",
       "      <td>0.0</td>\n",
       "      <td>rb</td>\n",
       "      <td>RB F1 Team</td>\n",
       "    </tr>\n",
       "    <tr>\n",
       "      <th>13441</th>\n",
       "      <td>28970.0</td>\n",
       "      <td>1143.0</td>\n",
       "      <td>215</td>\n",
       "      <td>46.0</td>\n",
       "      <td>8.0</td>\n",
       "      <td>0.0</td>\n",
       "      <td>rb</td>\n",
       "      <td>RB F1 Team</td>\n",
       "    </tr>\n",
       "    <tr>\n",
       "      <th>13442</th>\n",
       "      <td>28980.0</td>\n",
       "      <td>1144.0</td>\n",
       "      <td>215</td>\n",
       "      <td>46.0</td>\n",
       "      <td>8.0</td>\n",
       "      <td>0.0</td>\n",
       "      <td>rb</td>\n",
       "      <td>RB F1 Team</td>\n",
       "    </tr>\n",
       "  </tbody>\n",
       "</table>\n",
       "<p>1490 rows × 8 columns</p>\n",
       "</div>"
      ],
      "text/plain": [
       "       constructorStandingsId  raceId  constructorId  points  position  wins  \\\n",
       "780                   26936.0   989.0              1    12.0       4.0   0.0   \n",
       "781                   26976.0   990.0              1    22.0       3.0   0.0   \n",
       "782                   26966.0   991.0              1    28.0       4.0   0.0   \n",
       "783                   26986.0   992.0              1    36.0       4.0   0.0   \n",
       "784                   26996.0   993.0              1    40.0       5.0   0.0   \n",
       "...                       ...     ...            ...     ...       ...   ...   \n",
       "13438                 28940.0  1140.0            215    36.0       7.0   0.0   \n",
       "13439                 28950.0  1141.0            215    44.0       8.0   0.0   \n",
       "13440                 28960.0  1142.0            215    46.0       8.0   0.0   \n",
       "13441                 28970.0  1143.0            215    46.0       8.0   0.0   \n",
       "13442                 28980.0  1144.0            215    46.0       8.0   0.0   \n",
       "\n",
       "      constructorRef        name  \n",
       "780          mclaren     McLaren  \n",
       "781          mclaren     McLaren  \n",
       "782          mclaren     McLaren  \n",
       "783          mclaren     McLaren  \n",
       "784          mclaren     McLaren  \n",
       "...              ...         ...  \n",
       "13438             rb  RB F1 Team  \n",
       "13439             rb  RB F1 Team  \n",
       "13440             rb  RB F1 Team  \n",
       "13441             rb  RB F1 Team  \n",
       "13442             rb  RB F1 Team  \n",
       "\n",
       "[1490 rows x 8 columns]"
      ]
     },
     "execution_count": 41,
     "metadata": {},
     "output_type": "execute_result"
    }
   ],
   "source": [
    "constructor_standings = constructor_standings[constructor_standings['raceId'] >= 989]\n",
    "constructor_standings"
   ]
  },
  {
   "cell_type": "code",
   "execution_count": 42,
   "id": "e9f62a83",
   "metadata": {},
   "outputs": [],
   "source": [
    "constructor_standings.to_csv(\"constructor_standings_cleaned.csv\", index=False)\n"
   ]
  }
 ],
 "metadata": {
  "kernelspec": {
   "display_name": "Python 3",
   "language": "python",
   "name": "python3"
  },
  "language_info": {
   "codemirror_mode": {
    "name": "ipython",
    "version": 3
   },
   "file_extension": ".py",
   "mimetype": "text/x-python",
   "name": "python",
   "nbconvert_exporter": "python",
   "pygments_lexer": "ipython3",
   "version": "3.11.13"
  }
 },
 "nbformat": 4,
 "nbformat_minor": 5
}
